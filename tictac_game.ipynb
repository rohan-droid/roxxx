{
 "cells": [
  {
   "cell_type": "code",
   "execution_count": 42,
   "id": "6727733a-1d90-4ee7-80f2-0598b5487b46",
   "metadata": {},
   "outputs": [],
   "source": [
    "#step 1:- create a board\n",
    "from IPython.display import clear_output\n",
    "def display_board (board): \n",
    "    clear_output()# taki koi bar bar display_board\n",
    "    #function ko call kare toh board saaf sutra mile \n",
    "    # naki pahad jaissa mile.ok \n",
    "    print('   |   |')\n",
    "    print(' ' + board[7] + ' | ' + board[8] + ' | ' + board[9])\n",
    "    print('   |   |')\n",
    "    print('-----------')\n",
    "    print('   |   |')\n",
    "    print(' ' + board[4] + ' | ' + board[5] + ' | ' + board[6])\n",
    "    print('   |   |')\n",
    "    print('-----------')\n",
    "    print('   |   |')\n",
    "    print(' ' + board[1] + ' | ' + board[2] + ' | ' + board[3])\n",
    "    print('   |   |')\n",
    "    #ye pattern rat lo"
   ]
  },
  {
   "cell_type": "code",
   "execution_count": 63,
   "id": "c8bbfe10-6855-4c28-85f4-90c9bedac502",
   "metadata": {},
   "outputs": [
    {
     "name": "stdout",
     "output_type": "stream",
     "text": [
      "   |   |\n",
      " X | O | X\n",
      "   |   |\n",
      "-----------\n",
      "   |   |\n",
      " O | X | O\n",
      "   |   |\n",
      "-----------\n",
      "   |   |\n",
      " X | O | X\n",
      "   |   |\n"
     ]
    }
   ],
   "source": [
    "test_board = ['#','X','O','X','O','X','O','X','O','X']\n",
    "display_board(test_board)"
   ]
  },
  {
   "cell_type": "code",
   "execution_count": 64,
   "id": "daefb5e6-13e4-46d8-9cb3-0c3eea78b944",
   "metadata": {},
   "outputs": [],
   "source": [
    "#step 2- player input\n",
    "def player_input():\n",
    "    \n",
    "    marker=''\n",
    "    while marker!=\"X\" and marker !=\"O\":\n",
    "        marker = input (\"player1 , choose X or O :\").upper()\n",
    "    #assign player 2 the opposite marker i.e. X or O \n",
    "    player1= marker\n",
    "    #player1 Enclosed variable \n",
    "    if player1 ==\"X\":\n",
    "        player2 =\"O\" #do not assign 'O' bsdk \n",
    "        #condition hai follow karo \n",
    "    else:\n",
    "        player2 =\"X\"\n",
    "    \n",
    "    return (player1,player2)\n",
    "    "
   ]
  },
  {
   "cell_type": "code",
   "execution_count": 66,
   "id": "f56f5a13-6eaf-4e5b-b6ca-e05a9b85f8e6",
   "metadata": {},
   "outputs": [
    {
     "name": "stdin",
     "output_type": "stream",
     "text": [
      "player1 , choose X or O : x\n"
     ]
    }
   ],
   "source": [
    "player1_marker,player2_marker= player_input()"
   ]
  },
  {
   "cell_type": "code",
   "execution_count": 67,
   "id": "56ba15c9-c58e-4668-b05c-78f17bd87df9",
   "metadata": {},
   "outputs": [],
   "source": [
    "# step 3:-function which take input in desired location \n",
    "def place_marker(board,marker,position):\n",
    "    board[position]=marker"
   ]
  },
  {
   "cell_type": "code",
   "execution_count": 68,
   "id": "b9d2e19f-6eaa-4073-98d8-f8baf6ab8a5b",
   "metadata": {},
   "outputs": [
    {
     "data": {
      "text/plain": [
       "['#', 'X', 'O', 'X', 'O', 'X', 'O', 'X', 'O', 'X']"
      ]
     },
     "execution_count": 68,
     "metadata": {},
     "output_type": "execute_result"
    }
   ],
   "source": [
    "test_board"
   ]
  },
  {
   "cell_type": "code",
   "execution_count": 69,
   "id": "6e970e50-aa20-41f1-b24a-7cb36d44fb57",
   "metadata": {},
   "outputs": [
    {
     "name": "stdout",
     "output_type": "stream",
     "text": [
      "   |   |\n",
      " X | O | X\n",
      "   |   |\n",
      "-----------\n",
      "   |   |\n",
      " O | X | O\n",
      "   |   |\n",
      "-----------\n",
      "   |   |\n",
      " X | 4 | X\n",
      "   |   |\n"
     ]
    }
   ],
   "source": [
    "place_marker(test_board,'4',2)\n",
    "display_board(test_board)"
   ]
  },
  {
   "cell_type": "code",
   "execution_count": 70,
   "id": "85e415e4-25b1-4194-8148-34204355a2e1",
   "metadata": {},
   "outputs": [],
   "source": [
    "#step 4:- to check selected marker won or not \n",
    "def win_check(board,mark):\n",
    "    #to win we have to check all row all columns and \n",
    "    #iagonals if they have matched with same marker \n",
    "    # so we do \n",
    "    return((board[1]==board[2]==board[2]==mark)or #row \n",
    "          (board[4]==board[5]==board[6]==mark)or #row\n",
    "          (board[7]==board[8]==board[9]==mark)or #row\n",
    "          (board[7]==board[4]==board[1]==mark)or #column\n",
    "          (board[8]==board[5]==board[2]==mark)or #column\n",
    "          (board[9]==board[6]==board[3]==mark)or #column\n",
    "          (board[7]==board[5]==board[3]==mark)or #diagonaL\n",
    "          (board[9]==board[5]==board[1]==mark)) #diagonaL\n",
    "    "
   ]
  },
  {
   "cell_type": "code",
   "execution_count": 71,
   "id": "e5ffbc73-3da9-4b97-a4d0-6b0f6da854c2",
   "metadata": {},
   "outputs": [
    {
     "name": "stdout",
     "output_type": "stream",
     "text": [
      "   |   |\n",
      " X | O | X\n",
      "   |   |\n",
      "-----------\n",
      "   |   |\n",
      " O | X | O\n",
      "   |   |\n",
      "-----------\n",
      "   |   |\n",
      " X | 4 | X\n",
      "   |   |\n"
     ]
    },
    {
     "data": {
      "text/plain": [
       "True"
      ]
     },
     "execution_count": 71,
     "metadata": {},
     "output_type": "execute_result"
    }
   ],
   "source": [
    "#check if any one is won \n",
    "display_board(test_board)\n",
    "win_check(test_board,'X')"
   ]
  },
  {
   "cell_type": "code",
   "execution_count": 72,
   "id": "9ae4dd05-026f-4b20-9bad-760ab929ce16",
   "metadata": {},
   "outputs": [],
   "source": [
    "# step 5:- write a function randomly decide which player\n",
    "#will go first \n",
    "import random\n",
    "\n",
    "def choose_first():\n",
    "    filp = random.randint(0,1)\n",
    "    if filp == 0:\n",
    "        return 'Player 2'\n",
    "    else:\n",
    "        return 'Player 1'"
   ]
  },
  {
   "cell_type": "code",
   "execution_count": 73,
   "id": "b7b660f3-026a-4948-92aa-03c207c79653",
   "metadata": {},
   "outputs": [
    {
     "data": {
      "text/plain": [
       "'Player 2'"
      ]
     },
     "execution_count": 73,
     "metadata": {},
     "output_type": "execute_result"
    }
   ],
   "source": [
    "choose_first()"
   ]
  },
  {
   "cell_type": "code",
   "execution_count": 74,
   "id": "07d5c59f-1eff-4e0b-944e-ab3879448486",
   "metadata": {},
   "outputs": [],
   "source": [
    "#step 6:- check jaha pe mark karna hai wo jagah khali hai bhi ki nhi \n",
    "# with the help of booleean of corse\n",
    "def space_check(board,position):\n",
    "    return board[position]==\" \"\n",
    "    "
   ]
  },
  {
   "cell_type": "code",
   "execution_count": 75,
   "id": "229306f0-3fdd-4c09-b36a-8821aa2c3bd8",
   "metadata": {},
   "outputs": [],
   "source": [
    "#step 7:-a function jo bataye ki board full ho chuka hai \n",
    "#boolean ke form me \n",
    "def full_board_check(board):\n",
    "    for i in range(1,10):\n",
    "        if space_check(board,i):\n",
    "            return False\n",
    "    return True    "
   ]
  },
  {
   "cell_type": "code",
   "execution_count": 76,
   "id": "6d8074da-1db8-47c1-97a5-41f198983d35",
   "metadata": {},
   "outputs": [],
   "source": [
    "# step 8 :- a function jo pooche player se uski \n",
    "#agli position jb tk board me jagah hai..\n",
    "def player_choice(board):\n",
    "    position = 0\n",
    "    while position not in [1,2,3,4,5,6,7,8,9] or not space_check(board,position):\n",
    "        position= int(input(\"choose a position :(1-9)\"))\n",
    "    return position    "
   ]
  },
  {
   "cell_type": "code",
   "execution_count": 77,
   "id": "8927abff-e526-4302-a196-7b742a3abeca",
   "metadata": {},
   "outputs": [],
   "source": [
    "#step 9:- ask the player ki dobara khelna hai ki nhi ?\n",
    "def replay():\n",
    "    choice=input(\"play again ?:enter y or n\").lower()\n",
    "    return choice == \"y\""
   ]
  },
  {
   "cell_type": "code",
   "execution_count": 88,
   "id": "f3e7f830-9ffe-4e66-9719-1d6011ea1fe4",
   "metadata": {},
   "outputs": [
    {
     "name": "stdout",
     "output_type": "stream",
     "text": [
      "   |   |\n",
      " X | O | O\n",
      "   |   |\n",
      "-----------\n",
      "   |   |\n",
      " O | X | X\n",
      "   |   |\n",
      "-----------\n",
      "   |   |\n",
      " O | X | O\n",
      "   |   |\n",
      "game tied\n"
     ]
    },
    {
     "name": "stdin",
     "output_type": "stream",
     "text": [
      "play again ?:enter y or n n\n"
     ]
    }
   ],
   "source": [
    "#step 10:-while loop ke help se game chalao bar bar jb tk player chaye.\n",
    "print (\"welcome to tic tac toe!\")\n",
    "\n",
    "while True:\n",
    "    #to play the game\n",
    " \n",
    "\n",
    "    #set everything up like(board func,whos first,\n",
    "    #coose markers X,O )\n",
    "    the_board =[' ']*10\n",
    "    player1_marker,player2_marker = player_input()\n",
    "    turn = choose_first()\n",
    "    print(turn + \"will go first \")\n",
    "    play_game = input('ready to play y or n ?')\n",
    "    if play_game.lower()[0] == \"y\":\n",
    "        game_on = True\n",
    "    else:\n",
    "        game_on = False \n",
    "    #game play \n",
    "    while game_on:\n",
    "       \n",
    "        if turn == \"player1\":\n",
    "            \n",
    "            display_board(the_board)\n",
    "            #choose the position\n",
    "            position = player_choice(the_board)\n",
    "            #place the marker in position \n",
    "            place_marker(the_board,player1_marker,position)\n",
    "            # check if they won\n",
    "            if win_check(the_board,player1_marker):\n",
    "                display_board(the_board)\n",
    "                print(\"player1 won!\")\n",
    "                game_on = False\n",
    "            else:\n",
    "                if full_board_check(the_board):\n",
    "                    display_board(the_board)\n",
    "                    print(\"game tied\")\n",
    "                    game_on = False\n",
    "                    break\n",
    "                else:\n",
    "                    turn = 'player2'        \n",
    "     \n",
    "        \n",
    "        else:\n",
    "            \n",
    "            display_board(the_board)\n",
    "            #choose the position\n",
    "            position = player_choice(the_board)\n",
    "            #place the marker in position \n",
    "            place_marker(the_board,player2_marker,position)\n",
    "            # check if they won\n",
    "            if win_check(the_board,player2_marker):\n",
    "                display_board(the_board)\n",
    "                print(\"player2 won!\")\n",
    "                game_on = False\n",
    "            else:\n",
    "                if full_board_check(the_board):\n",
    "                    display_board(the_board)\n",
    "                    print(\"game tied\")\n",
    "                    game_on = False\n",
    "                    break\n",
    "                else:\n",
    "                    turn = 'player1' \n",
    "            \n",
    "        \n",
    " \n",
    "    if not replay():\n",
    "        break\n",
    "        "
   ]
  },
  {
   "cell_type": "code",
   "execution_count": null,
   "id": "92ce18ae-8ab9-490e-9479-75508d54d220",
   "metadata": {},
   "outputs": [],
   "source": []
  }
 ],
 "metadata": {
  "kernelspec": {
   "display_name": "Python 3 (ipykernel)",
   "language": "python",
   "name": "python3"
  },
  "language_info": {
   "codemirror_mode": {
    "name": "ipython",
    "version": 3
   },
   "file_extension": ".py",
   "mimetype": "text/x-python",
   "name": "python",
   "nbconvert_exporter": "python",
   "pygments_lexer": "ipython3",
   "version": "3.9.12"
  }
 },
 "nbformat": 4,
 "nbformat_minor": 5
}
